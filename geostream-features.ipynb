{
 "cells": [
  {
   "cell_type": "code",
   "execution_count": 123,
   "metadata": {
    "scrolled": true
   },
   "outputs": [
    {
     "name": "stdout",
     "output_type": "stream",
     "text": [
      "Populating the interactive namespace from numpy and matplotlib\n"
     ]
    }
   ],
   "source": [
    "# подгружаем все нужные пакеты\n",
    "import pandas as pd\n",
    "import numpy as np\n",
    "\n",
    "# import pandas_profiling as pp\n",
    "\n",
    "import os\n",
    "import sys\n",
    "import math\n",
    "import string\n",
    "import itertools as it\n",
    "from transliterate import translit\n",
    "\n",
    "from collections import defaultdict\n",
    "\n",
    "from sklearn.ensemble import RandomForestClassifier\n",
    "from sklearn.preprocessing import OneHotEncoder, LabelEncoder\n",
    "\n",
    "from sklearn.metrics import roc_auc_score, f1_score, accuracy_score, classification_report, precision_score, recall_score, roc_curve\n",
    "from sklearn.model_selection import train_test_split\n",
    "\n",
    "# для встроенных картинок\n",
    "%pylab inline\n",
    "# чуть покрасивше картинки:\n",
    "pd.set_option('display.mpl_style', 'default')\n",
    "figsize(12, 9)\n",
    "\n",
    "import warnings\n",
    "warnings.filterwarnings(\"ignore\")\n",
    "\n",
    "#plt.rcParams['figure.figsize'] = 10, 7.5\n",
    "#plt.rcParams['axes.grid'] = True\n",
    "pd.set_option('display.max_columns', None)\n",
    "import matplotlib.pyplot as plt\n",
    "# import seaborn as sns\n",
    "\n",
    "\n",
    "import matplotlib as mpl\n",
    "mpl.rcParams['font.family'] = 'Verdana' # Ubuntu\n",
    "\n",
    "plt.rc('text', usetex=False)\n",
    "plt.rc('font', family='serif')\n",
    "plt.rc('font', weight='bold')\n",
    "plt.rc('xtick', labelsize=14) \n",
    "plt.rc('ytick', labelsize=14)\n",
    "\n",
    "# чтобы был русский шрифт\n",
    "from matplotlib import rc\n",
    " \n",
    "font = {'family': 'Verdana', #Droid Sans\n",
    "        'weight': 'normal'}\n",
    "rc('font', **font)\n",
    "import pickle as pkl\n",
    "import random"
   ]
  },
  {
   "cell_type": "code",
   "execution_count": 124,
   "metadata": {
    "collapsed": true
   },
   "outputs": [],
   "source": [
    "pd.options.display.max_colwidth = 100"
   ]
  },
  {
   "cell_type": "code",
   "execution_count": 125,
   "metadata": {
    "collapsed": true
   },
   "outputs": [],
   "source": [
    "import gzip"
   ]
  },
  {
   "cell_type": "code",
   "execution_count": 126,
   "metadata": {
    "collapsed": true
   },
   "outputs": [],
   "source": [
    "import folium"
   ]
  },
  {
   "cell_type": "markdown",
   "metadata": {},
   "source": [
    "## Reading"
   ]
  },
  {
   "cell_type": "code",
   "execution_count": 127,
   "metadata": {},
   "outputs": [],
   "source": [
    "df_orders_drivers = pd.read_csv('./orders_drivers.csv')\n",
    "df_orders_riders  = pd.read_csv('./orders_riders.csv')\n",
    "df_geo_stream     = pd.read_csv('./geo_stream.csv')\n",
    "df_reviews        = pd.read_csv('./reviews.csv', sep=';')\n",
    "with gzip.open('./driver_paths.csv.gz') as f:\n",
    "    df_driver_paths = pd.read_csv(f)"
   ]
  },
  {
   "cell_type": "markdown",
   "metadata": {},
   "source": [
    "## Geo stream"
   ]
  },
  {
   "cell_type": "markdown",
   "metadata": {},
   "source": [
    "статусы: ['busy', 'in_order', 'free', 'routing', 'none']"
   ]
  },
  {
   "cell_type": "markdown",
   "metadata": {},
   "source": [
    "None можно смело выкинуть"
   ]
  },
  {
   "cell_type": "code",
   "execution_count": 128,
   "metadata": {},
   "outputs": [
    {
     "data": {
      "text/html": [
       "<div>\n",
       "<style>\n",
       "    .dataframe thead tr:only-child th {\n",
       "        text-align: right;\n",
       "    }\n",
       "\n",
       "    .dataframe thead th {\n",
       "        text-align: left;\n",
       "    }\n",
       "\n",
       "    .dataframe tbody tr th {\n",
       "        vertical-align: top;\n",
       "    }\n",
       "</style>\n",
       "<table border=\"1\" class=\"dataframe\">\n",
       "  <thead>\n",
       "    <tr style=\"text-align: right;\">\n",
       "      <th></th>\n",
       "      <th>drivergk</th>\n",
       "      <th>latitude</th>\n",
       "      <th>longitude</th>\n",
       "      <th>status</th>\n",
       "      <th>gps_at</th>\n",
       "      <th>speed</th>\n",
       "    </tr>\n",
       "  </thead>\n",
       "  <tbody>\n",
       "    <tr>\n",
       "      <th>0</th>\n",
       "      <td>4176</td>\n",
       "      <td>55.925782</td>\n",
       "      <td>37.516895</td>\n",
       "      <td>busy</td>\n",
       "      <td>2017-09-01 14:47:53</td>\n",
       "      <td>2.361546</td>\n",
       "    </tr>\n",
       "    <tr>\n",
       "      <th>1</th>\n",
       "      <td>7104</td>\n",
       "      <td>55.625518</td>\n",
       "      <td>37.417599</td>\n",
       "      <td>in_order</td>\n",
       "      <td>2017-09-01 14:47:57</td>\n",
       "      <td>25.859999</td>\n",
       "    </tr>\n",
       "    <tr>\n",
       "      <th>2</th>\n",
       "      <td>7104</td>\n",
       "      <td>55.625425</td>\n",
       "      <td>37.417235</td>\n",
       "      <td>in_order</td>\n",
       "      <td>2017-09-01 14:47:56</td>\n",
       "      <td>25.210000</td>\n",
       "    </tr>\n",
       "    <tr>\n",
       "      <th>3</th>\n",
       "      <td>7104</td>\n",
       "      <td>55.625332</td>\n",
       "      <td>37.416873</td>\n",
       "      <td>in_order</td>\n",
       "      <td>2017-09-01 14:47:55</td>\n",
       "      <td>24.560000</td>\n",
       "    </tr>\n",
       "    <tr>\n",
       "      <th>4</th>\n",
       "      <td>7104</td>\n",
       "      <td>55.625242</td>\n",
       "      <td>37.416523</td>\n",
       "      <td>in_order</td>\n",
       "      <td>2017-09-01 14:47:54</td>\n",
       "      <td>24.070000</td>\n",
       "    </tr>\n",
       "  </tbody>\n",
       "</table>\n",
       "</div>"
      ],
      "text/plain": [
       "   drivergk   latitude  longitude    status               gps_at      speed\n",
       "0      4176  55.925782  37.516895      busy  2017-09-01 14:47:53   2.361546\n",
       "1      7104  55.625518  37.417599  in_order  2017-09-01 14:47:57  25.859999\n",
       "2      7104  55.625425  37.417235  in_order  2017-09-01 14:47:56  25.210000\n",
       "3      7104  55.625332  37.416873  in_order  2017-09-01 14:47:55  24.560000\n",
       "4      7104  55.625242  37.416523  in_order  2017-09-01 14:47:54  24.070000"
      ]
     },
     "execution_count": 128,
     "metadata": {},
     "output_type": "execute_result"
    }
   ],
   "source": [
    "df_geo_stream.head()"
   ]
  },
  {
   "cell_type": "raw",
   "metadata": {},
   "source": [
    "df_geo_stream[df_geo_stream.speed>0].speed.sample(50000).hist(bins=20)"
   ]
  },
  {
   "cell_type": "code",
   "execution_count": 129,
   "metadata": {
    "collapsed": true
   },
   "outputs": [],
   "source": [
    "df_geo_stream = df_geo_stream[df_geo_stream.status != 'none']"
   ]
  },
  {
   "cell_type": "code",
   "execution_count": 130,
   "metadata": {
    "collapsed": true
   },
   "outputs": [],
   "source": [
    "df_geo_stream['ts'] = pd.to_numeric(pd.to_datetime(df_geo_stream.gps_at)) / 1000000000"
   ]
  },
  {
   "cell_type": "code",
   "execution_count": 131,
   "metadata": {
    "collapsed": true
   },
   "outputs": [],
   "source": [
    "df_geo_stream['dt'] = pd.to_datetime(df_geo_stream.gps_at)"
   ]
  },
  {
   "cell_type": "raw",
   "metadata": {},
   "source": [
    "driver_states = df_geo_stream[df_geo_stream.status != 'busy'].groupby('drivergk')['status'].value_counts(normalize=True)"
   ]
  },
  {
   "cell_type": "code",
   "execution_count": 132,
   "metadata": {},
   "outputs": [],
   "source": [
    "df_ofr = df_geo_stream[(df_geo_stream.status!='busy')]"
   ]
  },
  {
   "cell_type": "code",
   "execution_count": 133,
   "metadata": {
    "collapsed": true
   },
   "outputs": [],
   "source": [
    "dict_map = {'in_order':-1, 'free':1, 'routing':0}"
   ]
  },
  {
   "cell_type": "code",
   "execution_count": 134,
   "metadata": {},
   "outputs": [],
   "source": [
    "df_ofr = df_ofr.replace({'status': dict_map})"
   ]
  },
  {
   "cell_type": "code",
   "execution_count": 135,
   "metadata": {
    "collapsed": true
   },
   "outputs": [],
   "source": [
    "pd.options.display.max_rows=300"
   ]
  },
  {
   "cell_type": "code",
   "execution_count": 91,
   "metadata": {
    "collapsed": true
   },
   "outputs": [],
   "source": [
    "def get_orig_dest(x):\n",
    "    x = x.sort_values(by='dt')\n",
    "    x['changed'] = x['status'].diff().fillna(0.0)#.reset_index()\n",
    "    x = x[x.status==-1].reset_index(drop=True)\n",
    "    changed_idx = x[x.changed!=0].index\n",
    "    print(x.iloc[changed_idx][['latitude', 'longitude']])\n",
    "#     print(x.iloc[-1][['latitude', 'longitude']])\n",
    "#     print(changed_idx)\n",
    "    return x"
   ]
  },
  {
   "cell_type": "code",
   "execution_count": 140,
   "metadata": {
    "collapsed": true
   },
   "outputs": [],
   "source": [
    "from tqdm import tqdm"
   ]
  },
  {
   "cell_type": "code",
   "execution_count": 144,
   "metadata": {},
   "outputs": [
    {
     "data": {
      "text/plain": [
       "8446"
      ]
     },
     "execution_count": 144,
     "metadata": {},
     "output_type": "execute_result"
    }
   ],
   "source": [
    "df_ofr.drivergk.nunique()"
   ]
  },
  {
   "cell_type": "code",
   "execution_count": 141,
   "metadata": {
    "scrolled": true
   },
   "outputs": [
    {
     "name": "stderr",
     "output_type": "stream",
     "text": [
      "100%|██████████| 8446/8446 [00:54<00:00, 153.66it/s]\n"
     ]
    }
   ],
   "source": [
    "#.apply(lambda x: get_orig_dest(x[['latitude', 'longitude', 'dt', 'status']]))\n",
    "list_of_pairs = []\n",
    "cnt = 0\n",
    "for i, x in tqdm(df_ofr.groupby('drivergk')):\n",
    "    x = x.sort_values(by='dt')\n",
    "    x['changed'] = x['status'].diff().fillna(0.0)#.reset_index()\n",
    "    x = x[x.status==-1].reset_index(drop=True)\n",
    "    changed_idx = list(x[x.changed!=0].index)\n",
    "#     print(x[['latitude', 'longitude', 'status', 'changed']])\n",
    "    if len(changed_idx)>0:\n",
    "        changed_idx_add = [val-1 for val in changed_idx if val>0] + [len(x)-1]\n",
    "        changed_idx +=changed_idx_add\n",
    "    #     print(changed_idx_add)\n",
    "    #     print(x[['latitude', 'longitude', 'changed']])\n",
    "        l = [tuple(v) for v in x.iloc[changed_idx][['latitude', 'longitude']].values]\n",
    "        pairs = list(zip(l[::2], l[1::2]))\n",
    "        list_of_pairs += pairs\n",
    "    else:\n",
    "        if len(x)>1:\n",
    "            l = [tuple(v) for v in x.iloc[[0, len(x)-1]][['latitude', 'longitude']].values]\n",
    "            pairs = list(zip(l[::2], l[1::2]))\n",
    "#             list_of_pairs += pairs\n",
    "#     cnt+=1\n",
    "#     if cnt % 100 == 0:\n",
    "#         print(cnt)"
   ]
  },
  {
   "cell_type": "code",
   "execution_count": 148,
   "metadata": {},
   "outputs": [],
   "source": [
    "pd.DataFrame([[pair[0][0], pair[0][1], pair[1][0], pair[1][1]] for pair in list_of_pairs], columns=['x_lat', 'x_lon', 'y_lat', 'y_lon']).to_csv('for_lenya.csv', index=None)"
   ]
  },
  {
   "cell_type": "code",
   "execution_count": 142,
   "metadata": {
    "scrolled": true
   },
   "outputs": [
    {
     "data": {
      "text/plain": [
       "84313"
      ]
     },
     "execution_count": 142,
     "metadata": {},
     "output_type": "execute_result"
    }
   ],
   "source": [
    "len(list_of_pairs)"
   ]
  },
  {
   "cell_type": "code",
   "execution_count": null,
   "metadata": {},
   "outputs": [],
   "source": [
    "df_order_free"
   ]
  },
  {
   "cell_type": "code",
   "execution_count": 21,
   "metadata": {},
   "outputs": [],
   "source": [
    "driver_states = driver_states.unstack().dropna()"
   ]
  },
  {
   "cell_type": "code",
   "execution_count": 24,
   "metadata": {},
   "outputs": [
    {
     "data": {
      "text/plain": [
       "<matplotlib.axes._subplots.AxesSubplot at 0x7f736432f780>"
      ]
     },
     "execution_count": 24,
     "metadata": {},
     "output_type": "execute_result"
    },
    {
     "data": {
      "image/png": "[encoded data removed]",
      "text/plain": [
       "<matplotlib.figure.Figure at 0x7f73135a12b0>"
      ]
     },
     "metadata": {},
     "output_type": "display_data"
    }
   ],
   "source": [
    "driver_states.free.hist(bins=30)"
   ]
  },
  {
   "cell_type": "code",
   "execution_count": 12,
   "metadata": {
    "scrolled": true
   },
   "outputs": [],
   "source": [
    "df_geo_free = df_geo_stream[df_geo_stream.status=='free']"
   ]
  },
  {
   "cell_type": "code",
   "execution_count": 11,
   "metadata": {},
   "outputs": [
    {
     "data": {
      "text/plain": [
       "busy        0.430789\n",
       "in_order    0.393581\n",
       "free        0.173800\n",
       "routing     0.001831\n",
       "Name: status, dtype: float64"
      ]
     },
     "execution_count": 11,
     "metadata": {},
     "output_type": "execute_result"
    }
   ],
   "source": [
    "df_geo_stream.status.value_counts(normalize=True)"
   ]
  },
  {
   "cell_type": "code",
   "execution_count": 15,
   "metadata": {},
   "outputs": [
    {
     "data": {
      "text/plain": [
       "<matplotlib.axes._subplots.AxesSubplot at 0x7f72f97f1e10>"
      ]
     },
     "execution_count": 15,
     "metadata": {},
     "output_type": "execute_result"
    },
    {
     "data": {
      "image/png": "[encoded data removed]",
      "text/plain": [
       "<matplotlib.figure.Figure at 0x7f72f99dbc50>"
      ]
     },
     "metadata": {},
     "output_type": "display_data"
    }
   ],
   "source": [
    "df_geo_free.groupby('drivergk').agg({})"
   ]
  },
  {
   "cell_type": "code",
   "execution_count": 18,
   "metadata": {},
   "outputs": [],
   "source": [
    "sizes = df_geo_stream.groupby('drivergk').size()"
   ]
  },
  {
   "cell_type": "code",
   "execution_count": 21,
   "metadata": {},
   "outputs": [
    {
     "data": {
      "text/plain": [
       "13999.0"
      ]
     },
     "execution_count": 21,
     "metadata": {},
     "output_type": "execute_result"
    }
   ],
   "source": [
    "sizes.median() # медианное количество точек на драйвера"
   ]
  },
  {
   "cell_type": "code",
   "execution_count": 24,
   "metadata": {
    "scrolled": true
   },
   "outputs": [
    {
     "data": {
      "text/plain": [
       "Index(['drivergk', 'latitude', 'longitude', 'status', 'gps_at', 'speed'], dtype='object')"
      ]
     },
     "execution_count": 24,
     "metadata": {},
     "output_type": "execute_result"
    }
   ],
   "source": [
    "df_geo_stream.columns"
   ]
  },
  {
   "cell_type": "code",
   "execution_count": 23,
   "metadata": {
    "collapsed": true
   },
   "outputs": [],
   "source": [
    "m_drivers = folium.Map([55.752992, 37.621080], zoom_start=10)"
   ]
  },
  {
   "cell_type": "code",
   "execution_count": 28,
   "metadata": {},
   "outputs": [],
   "source": [
    "df_geo_test = df_order_free.groupby('drivergk').get_group(2)"
   ]
  },
  {
   "cell_type": "code",
   "execution_count": 34,
   "metadata": {},
   "outputs": [],
   "source": [
    "i = 0\n",
    "for j, gr in df_geo_stream.groupby('drivergk'):\n",
    "    points = [tuple(x) for x in gr[['latitude', 'longitude']].values]\n",
    "    r = lambda: random.randint(0,255)\n",
    "    folium.PolyLine(points, color='#%02X%02X%02X' % (r(),r(),r()), weight=2.5, opacity=1).add_to(m_drivers)\n",
    "    i+=1\n",
    "    if i > 5: break"
   ]
  },
  {
   "cell_type": "code",
   "execution_count": 54,
   "metadata": {
    "collapsed": true
   },
   "outputs": [],
   "source": [
    "pd.set_option('float_format', '{:f}'.format)"
   ]
  },
  {
   "cell_type": "code",
   "execution_count": 56,
   "metadata": {},
   "outputs": [],
   "source": [
    "df_geo_test['ts'] = pd.to_numeric(pd.to_datetime(df_geo_test.gps_at)) / 1000000000"
   ]
  },
  {
   "cell_type": "code",
   "execution_count": 72,
   "metadata": {
    "collapsed": true
   },
   "outputs": [],
   "source": [
    "from sklearn.cluster import DBSCAN"
   ]
  },
  {
   "cell_type": "code",
   "execution_count": 73,
   "metadata": {
    "collapsed": true
   },
   "outputs": [],
   "source": [
    "clf = DBSCAN()\n",
    "markers = clf.fit_predict()"
   ]
  },
  {
   "cell_type": "code",
   "execution_count": 29,
   "metadata": {
    "collapsed": true
   },
   "outputs": [],
   "source": [
    "coord_test = df_geo_test[['latitude', 'longitude']].as_matrix()"
   ]
  },
  {
   "cell_type": "code",
   "execution_count": 99,
   "metadata": {
    "collapsed": true
   },
   "outputs": [],
   "source": [
    "from sklearn.preprocessing import MinMaxScaler\n",
    "sc = MinMaxScaler()"
   ]
  },
  {
   "cell_type": "code",
   "execution_count": 101,
   "metadata": {},
   "outputs": [],
   "source": [
    "speed = sc.fit_transform(df_geo_test[['speed']])"
   ]
  },
  {
   "cell_type": "code",
   "execution_count": 115,
   "metadata": {},
   "outputs": [
    {
     "data": {
      "text/plain": [
       "(array([ 4312.,  1162.,  1242.,  1349.,  1259.,  1397.,  1556.,   552.,\n",
       "          412.,   177.]),\n",
       " array([ 0. ,  0.1,  0.2,  0.3,  0.4,  0.5,  0.6,  0.7,  0.8,  0.9,  1. ]),\n",
       " <a list of 10 Patch objects>)"
      ]
     },
     "execution_count": 115,
     "metadata": {},
     "output_type": "execute_result"
    },
    {
     "data": {
      "image/png": "[encoded data removed]",
      "text/plain": [
       "<matplotlib.figure.Figure at 0x7fd493344588>"
      ]
     },
     "metadata": {},
     "output_type": "display_data"
    }
   ],
   "source": [
    "plt.hist(speed)"
   ]
  },
  {
   "cell_type": "code",
   "execution_count": 2,
   "metadata": {},
   "outputs": [
    {
     "ename": "NameError",
     "evalue": "name 'coord_test' is not defined",
     "output_type": "error",
     "traceback": [
      "\u001b[0;31m---------------------------------------------------------------------------\u001b[0m",
      "\u001b[0;31mNameError\u001b[0m                                 Traceback (most recent call last)",
      "\u001b[0;32m<ipython-input-2-fcf6c8c4970f>\u001b[0m in \u001b[0;36m<module>\u001b[0;34m()\u001b[0m\n\u001b[0;32m----> 1\u001b[0;31m \u001b[0mplt\u001b[0m\u001b[0;34m.\u001b[0m\u001b[0mscatter\u001b[0m\u001b[0;34m(\u001b[0m\u001b[0mcoord_test\u001b[0m\u001b[0;34m[\u001b[0m\u001b[0;34m:\u001b[0m\u001b[0;34m,\u001b[0m\u001b[0;36m0\u001b[0m\u001b[0;34m]\u001b[0m\u001b[0;34m,\u001b[0m \u001b[0mcoord_test\u001b[0m\u001b[0;34m[\u001b[0m\u001b[0;34m:\u001b[0m\u001b[0;34m,\u001b[0m\u001b[0;36m1\u001b[0m\u001b[0;34m]\u001b[0m\u001b[0;34m,\u001b[0m \u001b[0mc\u001b[0m\u001b[0;34m=\u001b[0m\u001b[0;36m1\u001b[0m\u001b[0;34m-\u001b[0m\u001b[0mspeed\u001b[0m\u001b[0;34m,\u001b[0m \u001b[0mcmap\u001b[0m\u001b[0;34m=\u001b[0m\u001b[0mplt\u001b[0m\u001b[0;34m.\u001b[0m\u001b[0mget_cmap\u001b[0m\u001b[0;34m(\u001b[0m\u001b[0;34m'RdYlGn'\u001b[0m\u001b[0;34m)\u001b[0m\u001b[0;34m)\u001b[0m\u001b[0;34m\u001b[0m\u001b[0m\n\u001b[0m",
      "\u001b[0;31mNameError\u001b[0m: name 'coord_test' is not defined"
     ]
    }
   ],
   "source": [
    "plt.scatter(coord_test[:,0], coord_test[:,1], c=1-speed, cmap=plt.get_cmap('RdYlGn'))"
   ]
  },
  {
   "cell_type": "code",
   "execution_count": null,
   "metadata": {
    "collapsed": true
   },
   "outputs": [],
   "source": [
    "m_driver_test = folium.Map([55.752992, 37.621080], zoom_start=10)\n",
    "for coord in coord_test:\n",
    "    folium.CircleMarker(coord, radius=2).add_to(m_driver_test)\n",
    "\n",
    "m_driver_test.save(os.path.join('maps_html', 'random_driver_stream.html'))"
   ]
  },
  {
   "cell_type": "code",
   "execution_count": 77,
   "metadata": {},
   "outputs": [
    {
     "data": {
      "text/plain": [
       "0    22172\n",
       "Name: 0, dtype: int64"
      ]
     },
     "execution_count": 77,
     "metadata": {},
     "output_type": "execute_result"
    }
   ],
   "source": [
    "pd.DataFrame(markers)[0].value_counts()"
   ]
  },
  {
   "cell_type": "code",
   "execution_count": 93,
   "metadata": {},
   "outputs": [],
   "source": [
    "df_geo_test = df_geo_test.reset_index(drop=True)"
   ]
  },
  {
   "cell_type": "code",
   "execution_count": 105,
   "metadata": {},
   "outputs": [],
   "source": [
    "import geopy"
   ]
  },
  {
   "cell_type": "code",
   "execution_count": 34,
   "metadata": {
    "collapsed": true
   },
   "outputs": [],
   "source": [
    "from geopy.distance import vincenty"
   ]
  },
  {
   "cell_type": "code",
   "execution_count": 36,
   "metadata": {},
   "outputs": [],
   "source": [
    "df_geo_test = df_geo_test.reset_index(drop=True)\n",
    "m_driver_test = folium.Map([55.752992, 37.621080], zoom_start=10)\n",
    "points = []\n",
    "\n",
    "prev_point = df_geo_test.loc[0][['latitude', 'longitude']].values\n",
    "points+=[prev_point]\n",
    "for i, point in df_geo_test.iterrows():\n",
    "    if i==0: \n",
    "        continue\n",
    "    cur_point = point[['latitude', 'longitude']].values\n",
    "#     if cur_point[2] - prev_point[2] > 20: \n",
    "    if vincenty(cur_point, prev_point).km > 0.2:\n",
    "        r = lambda: random.randint(0,255)\n",
    "        folium.PolyLine([(p[0], p[1]) for p in points], color='#%02X%02X%02X' % (r(),r(),r()), weight=4.5, opacity=1).add_to(m_driver_test)\n",
    "        points = [cur_point]\n",
    "    else:\n",
    "        points += [cur_point]\n",
    "    \n",
    "    prev_point = cur_point\n",
    "\n",
    "    \n",
    "if points:\n",
    "    r = lambda: random.randint(0,255)\n",
    "    folium.PolyLine([(p[0], p[1]) for p in points], color='#%02X%02X%02X' % (r(),r(),r()), weight=4.5, opacity=1).add_to(m_driver_test)\n",
    "    \n",
    "    \n",
    "m_driver_test.save(os.path.join('maps_html', 'random_driver_stream.html'))"
   ]
  },
  {
   "cell_type": "code",
   "execution_count": 32,
   "metadata": {},
   "outputs": [
    {
     "ename": "NameError",
     "evalue": "name 'm_drivers' is not defined",
     "output_type": "error",
     "traceback": [
      "\u001b[0;31m---------------------------------------------------------------------------\u001b[0m",
      "\u001b[0;31mNameError\u001b[0m                                 Traceback (most recent call last)",
      "\u001b[0;32m<ipython-input-32-1f61f4aa43b1>\u001b[0m in \u001b[0;36m<module>\u001b[0;34m()\u001b[0m\n\u001b[0;32m----> 1\u001b[0;31m \u001b[0mm_drivers\u001b[0m\u001b[0;34m.\u001b[0m\u001b[0msave\u001b[0m\u001b[0;34m(\u001b[0m\u001b[0mos\u001b[0m\u001b[0;34m.\u001b[0m\u001b[0mpath\u001b[0m\u001b[0;34m.\u001b[0m\u001b[0mjoin\u001b[0m\u001b[0;34m(\u001b[0m\u001b[0;34m'maps_html'\u001b[0m\u001b[0;34m,\u001b[0m \u001b[0;34m'geo_stream_test.html'\u001b[0m\u001b[0;34m)\u001b[0m\u001b[0;34m)\u001b[0m\u001b[0;34m\u001b[0m\u001b[0m\n\u001b[0m",
      "\u001b[0;31mNameError\u001b[0m: name 'm_drivers' is not defined"
     ]
    }
   ],
   "source": [
    "m_drivers.save(os.path.join('maps_html', 'geo_stream_test.html'))"
   ]
  },
  {
   "cell_type": "code",
   "execution_count": null,
   "metadata": {
    "collapsed": true
   },
   "outputs": [],
   "source": []
  }
 ],
 "metadata": {
  "anaconda-cloud": {},
  "kernelspec": {
   "display_name": "Python 3",
   "language": "python",
   "name": "python3"
  },
  "language_info": {
   "codemirror_mode": {
    "name": "ipython",
    "version": 3
   },
   "file_extension": ".py",
   "mimetype": "text/x-python",
   "name": "python",
   "nbconvert_exporter": "python",
   "pygments_lexer": "ipython3",
   "version": "3.6.7"
  }
 },
 "nbformat": 4,
 "nbformat_minor": 2
}
