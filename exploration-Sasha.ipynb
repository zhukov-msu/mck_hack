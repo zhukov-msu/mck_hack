{
 "cells": [
  {
   "cell_type": "code",
   "execution_count": 1,
   "metadata": {
    "scrolled": true
   },
   "outputs": [
    {
     "name": "stdout",
     "output_type": "stream",
     "text": [
      "Populating the interactive namespace from numpy and matplotlib\n"
     ]
    },
    {
     "name": "stderr",
     "output_type": "stream",
     "text": [
      "/home/ubuntu/anaconda2/envs/py36/lib/python3.6/site-packages/IPython/core/interactiveshell.py:2881: FutureWarning: \n",
      "mpl_style had been deprecated and will be removed in a future version.\n",
      "Use `matplotlib.pyplot.style.use` instead.\n",
      "\n",
      "  exec(code_obj, self.user_global_ns, self.user_ns)\n"
     ]
    }
   ],
   "source": [
    "# подгружаем все нужные пакеты\n",
    "import pandas as pd\n",
    "import numpy as np\n",
    "\n",
    "# import pandas_profiling as pp\n",
    "\n",
    "import os\n",
    "import sys\n",
    "import math\n",
    "import string\n",
    "import itertools as it\n",
    "from transliterate import translit\n",
    "\n",
    "from collections import defaultdict\n",
    "\n",
    "from sklearn.ensemble import RandomForestClassifier\n",
    "from sklearn.preprocessing import OneHotEncoder, LabelEncoder\n",
    "\n",
    "from sklearn.metrics import roc_auc_score, f1_score, accuracy_score, classification_report, precision_score, recall_score, roc_curve\n",
    "from sklearn.model_selection import train_test_split\n",
    "\n",
    "# для встроенных картинок\n",
    "%pylab inline\n",
    "# чуть покрасивше картинки:\n",
    "pd.set_option('display.mpl_style', 'default')\n",
    "figsize(12, 9)\n",
    "\n",
    "import warnings\n",
    "warnings.filterwarnings(\"ignore\")\n",
    "\n",
    "#plt.rcParams['figure.figsize'] = 10, 7.5\n",
    "#plt.rcParams['axes.grid'] = True\n",
    "pd.set_option('display.max_columns', None)\n",
    "import matplotlib.pyplot as plt\n",
    "# import seaborn as sns\n",
    "\n",
    "\n",
    "import matplotlib as mpl\n",
    "mpl.rcParams['font.family'] = 'Verdana' # Ubuntu\n",
    "\n",
    "plt.rc('text', usetex=False)\n",
    "plt.rc('font', family='serif')\n",
    "plt.rc('font', weight='bold')\n",
    "plt.rc('xtick', labelsize=14) \n",
    "plt.rc('ytick', labelsize=14)\n",
    "\n",
    "# чтобы был русский шрифт\n",
    "from matplotlib import rc\n",
    " \n",
    "font = {'family': 'Verdana', #Droid Sans\n",
    "        'weight': 'normal'}\n",
    "rc('font', **font)\n",
    "import pickle as pkl\n",
    "import random"
   ]
  },
  {
   "cell_type": "code",
   "execution_count": 2,
   "metadata": {
    "collapsed": true
   },
   "outputs": [],
   "source": [
    "pd.options.display.max_colwidth = 100"
   ]
  },
  {
   "cell_type": "code",
   "execution_count": 3,
   "metadata": {
    "collapsed": true
   },
   "outputs": [],
   "source": [
    "import gzip"
   ]
  },
  {
   "cell_type": "code",
   "execution_count": 22,
   "metadata": {
    "collapsed": true
   },
   "outputs": [],
   "source": [
    "import folium"
   ]
  },
  {
   "cell_type": "markdown",
   "metadata": {},
   "source": [
    "## Reading"
   ]
  },
  {
   "cell_type": "code",
   "execution_count": 4,
   "metadata": {},
   "outputs": [],
   "source": [
    "df_orders_drivers = pd.read_csv('./orders_drivers.csv')\n",
    "df_text_origin    = pd.read_csv('./text_origin.csv')\n",
    "df_text_dest      = pd.read_csv('./text_dest.csv')\n",
    "df_orders_riders  = pd.read_csv('./orders_riders.csv')\n",
    "df_geo_stream     = pd.read_csv('./geo_stream.csv')\n",
    "df_reviews        = pd.read_csv('./reviews.csv', sep=';')\n",
    "with gzip.open('./driver_paths.csv.gz') as f:\n",
    "    df_driver_paths = pd.read_csv(f)"
   ]
  },
  {
   "cell_type": "code",
   "execution_count": 5,
   "metadata": {},
   "outputs": [
    {
     "data": {
      "text/html": [
       "<div>\n",
       "<style>\n",
       "    .dataframe thead tr:only-child th {\n",
       "        text-align: right;\n",
       "    }\n",
       "\n",
       "    .dataframe thead th {\n",
       "        text-align: left;\n",
       "    }\n",
       "\n",
       "    .dataframe tbody tr th {\n",
       "        vertical-align: top;\n",
       "    }\n",
       "</style>\n",
       "<table border=\"1\" class=\"dataframe\">\n",
       "  <thead>\n",
       "    <tr style=\"text-align: right;\">\n",
       "      <th></th>\n",
       "      <th>order_gk</th>\n",
       "      <th>order_datetime</th>\n",
       "      <th>driver_gk</th>\n",
       "      <th>order_status</th>\n",
       "      <th>class_type</th>\n",
       "      <th>rider_total_cost</th>\n",
       "      <th>paid_with_prepaid</th>\n",
       "      <th>payment_type</th>\n",
       "      <th>ride_type</th>\n",
       "      <th>m_ride_duration</th>\n",
       "      <th>ride_distance_key</th>\n",
       "      <th>m_driver_wait_time</th>\n",
       "      <th>m_rating</th>\n",
       "      <th>rider_ftp_date_key</th>\n",
       "      <th>rider_main_device_desc</th>\n",
       "      <th>driver_ftp_date_key</th>\n",
       "      <th>driver_device_platform</th>\n",
       "      <th>total_loyalty_points</th>\n",
       "      <th>acquisition_channel_desc</th>\n",
       "    </tr>\n",
       "  </thead>\n",
       "  <tbody>\n",
       "    <tr>\n",
       "      <th>0</th>\n",
       "      <td>173965</td>\n",
       "      <td>2017-09-25 18:36:01.000000</td>\n",
       "      <td>1137</td>\n",
       "      <td>Completed</td>\n",
       "      <td>Standard</td>\n",
       "      <td>586.00</td>\n",
       "      <td>NaN</td>\n",
       "      <td>Voucher</td>\n",
       "      <td>business</td>\n",
       "      <td>1281.0</td>\n",
       "      <td>5.8</td>\n",
       "      <td>7.0</td>\n",
       "      <td>NaN</td>\n",
       "      <td>2012-10-05</td>\n",
       "      <td>unknown</td>\n",
       "      <td>2016-12-01</td>\n",
       "      <td>Android</td>\n",
       "      <td>105</td>\n",
       "      <td>COMPANY</td>\n",
       "    </tr>\n",
       "    <tr>\n",
       "      <th>1</th>\n",
       "      <td>782457</td>\n",
       "      <td>2017-09-15 09:14:38.000000</td>\n",
       "      <td>1137</td>\n",
       "      <td>Completed</td>\n",
       "      <td>Economy</td>\n",
       "      <td>542.37</td>\n",
       "      <td>NaN</td>\n",
       "      <td>Voucher</td>\n",
       "      <td>business</td>\n",
       "      <td>2000.0</td>\n",
       "      <td>16.5</td>\n",
       "      <td>120.0</td>\n",
       "      <td>4.0</td>\n",
       "      <td>2017-04-28</td>\n",
       "      <td>iOS</td>\n",
       "      <td>2016-12-01</td>\n",
       "      <td>Android</td>\n",
       "      <td>4855</td>\n",
       "      <td>MOBILE</td>\n",
       "    </tr>\n",
       "    <tr>\n",
       "      <th>2</th>\n",
       "      <td>647029</td>\n",
       "      <td>2017-09-25 16:15:15.000000</td>\n",
       "      <td>1137</td>\n",
       "      <td>Completed</td>\n",
       "      <td>Standard</td>\n",
       "      <td>435.59</td>\n",
       "      <td>NaN</td>\n",
       "      <td>Voucher</td>\n",
       "      <td>business</td>\n",
       "      <td>1171.0</td>\n",
       "      <td>9.1</td>\n",
       "      <td>362.0</td>\n",
       "      <td>NaN</td>\n",
       "      <td>2017-04-11</td>\n",
       "      <td>iPhone</td>\n",
       "      <td>2016-12-01</td>\n",
       "      <td>Android</td>\n",
       "      <td>2285</td>\n",
       "      <td>COMPANY</td>\n",
       "    </tr>\n",
       "  </tbody>\n",
       "</table>\n",
       "</div>"
      ],
      "text/plain": [
       "   order_gk              order_datetime  driver_gk order_status class_type  \\\n",
       "0    173965  2017-09-25 18:36:01.000000       1137    Completed   Standard   \n",
       "1    782457  2017-09-15 09:14:38.000000       1137    Completed    Economy   \n",
       "2    647029  2017-09-25 16:15:15.000000       1137    Completed   Standard   \n",
       "\n",
       "   rider_total_cost  paid_with_prepaid payment_type ride_type  \\\n",
       "0            586.00                NaN      Voucher  business   \n",
       "1            542.37                NaN      Voucher  business   \n",
       "2            435.59                NaN      Voucher  business   \n",
       "\n",
       "   m_ride_duration  ride_distance_key  m_driver_wait_time  m_rating  \\\n",
       "0           1281.0                5.8                 7.0       NaN   \n",
       "1           2000.0               16.5               120.0       4.0   \n",
       "2           1171.0                9.1               362.0       NaN   \n",
       "\n",
       "  rider_ftp_date_key rider_main_device_desc driver_ftp_date_key  \\\n",
       "0         2012-10-05                unknown          2016-12-01   \n",
       "1         2017-04-28                    iOS          2016-12-01   \n",
       "2         2017-04-11                 iPhone          2016-12-01   \n",
       "\n",
       "  driver_device_platform  total_loyalty_points acquisition_channel_desc  \n",
       "0                Android                   105                  COMPANY  \n",
       "1                Android                  4855                   MOBILE  \n",
       "2                Android                  2285                  COMPANY  "
      ]
     },
     "execution_count": 5,
     "metadata": {},
     "output_type": "execute_result"
    }
   ],
   "source": [
    "df_orders_drivers.head(3)"
   ]
  },
  {
   "cell_type": "code",
   "execution_count": 6,
   "metadata": {},
   "outputs": [
    {
     "data": {
      "text/html": [
       "<div>\n",
       "<style>\n",
       "    .dataframe thead tr:only-child th {\n",
       "        text-align: right;\n",
       "    }\n",
       "\n",
       "    .dataframe thead th {\n",
       "        text-align: left;\n",
       "    }\n",
       "\n",
       "    .dataframe tbody tr th {\n",
       "        vertical-align: top;\n",
       "    }\n",
       "</style>\n",
       "<table border=\"1\" class=\"dataframe\">\n",
       "  <thead>\n",
       "    <tr style=\"text-align: right;\">\n",
       "      <th></th>\n",
       "      <th>order_gk</th>\n",
       "      <th>order_datetime</th>\n",
       "      <th>rider_gk</th>\n",
       "      <th>order_status</th>\n",
       "      <th>class_type</th>\n",
       "      <th>rider_total_cost</th>\n",
       "      <th>paid_with_prepaid</th>\n",
       "      <th>payment_type</th>\n",
       "      <th>ride_type</th>\n",
       "      <th>m_ride_duration</th>\n",
       "      <th>ride_distance_key</th>\n",
       "      <th>m_driver_wait_time</th>\n",
       "      <th>m_rating</th>\n",
       "      <th>rider_ftp_date_key</th>\n",
       "      <th>rider_main_device_desc</th>\n",
       "      <th>driver_ftp_date_key</th>\n",
       "      <th>driver_device_platform</th>\n",
       "      <th>total_loyalty_points</th>\n",
       "      <th>acquisition_channel_desc</th>\n",
       "    </tr>\n",
       "  </thead>\n",
       "  <tbody>\n",
       "    <tr>\n",
       "      <th>0</th>\n",
       "      <td>376885</td>\n",
       "      <td>2017-09-21 21:30:53.000000</td>\n",
       "      <td>9444</td>\n",
       "      <td>Cancelled</td>\n",
       "      <td>Standard</td>\n",
       "      <td>NaN</td>\n",
       "      <td>NaN</td>\n",
       "      <td>Voucher</td>\n",
       "      <td>business</td>\n",
       "      <td>NaN</td>\n",
       "      <td>NaN</td>\n",
       "      <td>NaN</td>\n",
       "      <td>NaN</td>\n",
       "      <td>2017-07-01</td>\n",
       "      <td>Android</td>\n",
       "      <td>2017-04-18</td>\n",
       "      <td>Android</td>\n",
       "      <td>1285</td>\n",
       "      <td>NaN</td>\n",
       "    </tr>\n",
       "    <tr>\n",
       "      <th>1</th>\n",
       "      <td>11150</td>\n",
       "      <td>2017-09-27 09:49:42.000000</td>\n",
       "      <td>9444</td>\n",
       "      <td>Completed</td>\n",
       "      <td>Standard</td>\n",
       "      <td>856.0</td>\n",
       "      <td>NaN</td>\n",
       "      <td>Voucher</td>\n",
       "      <td>business</td>\n",
       "      <td>3179.0</td>\n",
       "      <td>28.3</td>\n",
       "      <td>150.0</td>\n",
       "      <td>NaN</td>\n",
       "      <td>2017-07-01</td>\n",
       "      <td>Android</td>\n",
       "      <td>2017-06-15</td>\n",
       "      <td>iOS</td>\n",
       "      <td>1285</td>\n",
       "      <td>NaN</td>\n",
       "    </tr>\n",
       "    <tr>\n",
       "      <th>2</th>\n",
       "      <td>251087</td>\n",
       "      <td>2017-09-21 21:32:04.000000</td>\n",
       "      <td>9444</td>\n",
       "      <td>Completed</td>\n",
       "      <td>Standard</td>\n",
       "      <td>601.0</td>\n",
       "      <td>NaN</td>\n",
       "      <td>Voucher</td>\n",
       "      <td>business</td>\n",
       "      <td>1868.0</td>\n",
       "      <td>13.9</td>\n",
       "      <td>513.0</td>\n",
       "      <td>NaN</td>\n",
       "      <td>2017-07-01</td>\n",
       "      <td>Android</td>\n",
       "      <td>2017-06-16</td>\n",
       "      <td>Android</td>\n",
       "      <td>1285</td>\n",
       "      <td>NaN</td>\n",
       "    </tr>\n",
       "  </tbody>\n",
       "</table>\n",
       "</div>"
      ],
      "text/plain": [
       "   order_gk              order_datetime  rider_gk order_status class_type  \\\n",
       "0    376885  2017-09-21 21:30:53.000000      9444    Cancelled   Standard   \n",
       "1     11150  2017-09-27 09:49:42.000000      9444    Completed   Standard   \n",
       "2    251087  2017-09-21 21:32:04.000000      9444    Completed   Standard   \n",
       "\n",
       "   rider_total_cost  paid_with_prepaid payment_type ride_type  \\\n",
       "0               NaN                NaN      Voucher  business   \n",
       "1             856.0                NaN      Voucher  business   \n",
       "2             601.0                NaN      Voucher  business   \n",
       "\n",
       "   m_ride_duration  ride_distance_key  m_driver_wait_time  m_rating  \\\n",
       "0              NaN                NaN                 NaN       NaN   \n",
       "1           3179.0               28.3               150.0       NaN   \n",
       "2           1868.0               13.9               513.0       NaN   \n",
       "\n",
       "  rider_ftp_date_key rider_main_device_desc driver_ftp_date_key  \\\n",
       "0         2017-07-01                Android          2017-04-18   \n",
       "1         2017-07-01                Android          2017-06-15   \n",
       "2         2017-07-01                Android          2017-06-16   \n",
       "\n",
       "  driver_device_platform  total_loyalty_points acquisition_channel_desc  \n",
       "0                Android                  1285                      NaN  \n",
       "1                    iOS                  1285                      NaN  \n",
       "2                Android                  1285                      NaN  "
      ]
     },
     "execution_count": 6,
     "metadata": {},
     "output_type": "execute_result"
    }
   ],
   "source": [
    "df_orders_riders.head(3)"
   ]
  },
  {
   "cell_type": "code",
   "execution_count": 7,
   "metadata": {
    "scrolled": true
   },
   "outputs": [
    {
     "data": {
      "text/html": [
       "<div>\n",
       "<style>\n",
       "    .dataframe thead tr:only-child th {\n",
       "        text-align: right;\n",
       "    }\n",
       "\n",
       "    .dataframe thead th {\n",
       "        text-align: left;\n",
       "    }\n",
       "\n",
       "    .dataframe tbody tr th {\n",
       "        vertical-align: top;\n",
       "    }\n",
       "</style>\n",
       "<table border=\"1\" class=\"dataframe\">\n",
       "  <thead>\n",
       "    <tr style=\"text-align: right;\">\n",
       "      <th></th>\n",
       "      <th>order_gk</th>\n",
       "      <th>hour_key</th>\n",
       "      <th>weekday_key</th>\n",
       "      <th>origin_full_address</th>\n",
       "      <th>origin_latitude</th>\n",
       "      <th>origin_longitude</th>\n",
       "    </tr>\n",
       "  </thead>\n",
       "  <tbody>\n",
       "    <tr>\n",
       "      <th>0</th>\n",
       "      <td>529274</td>\n",
       "      <td>15</td>\n",
       "      <td>3</td>\n",
       "      <td>Юбилейный проспект, д.74а, Химки</td>\n",
       "      <td>55.894901000000004</td>\n",
       "      <td>37.410573</td>\n",
       "    </tr>\n",
       "    <tr>\n",
       "      <th>1</th>\n",
       "      <td>161095</td>\n",
       "      <td>19</td>\n",
       "      <td>0</td>\n",
       "      <td>МЕГА Теплый Стан, Калужское шоссе 21км, Сосенское</td>\n",
       "      <td>55.604228000000006</td>\n",
       "      <td>37.491983000000005</td>\n",
       "    </tr>\n",
       "    <tr>\n",
       "      <th>2</th>\n",
       "      <td>179230</td>\n",
       "      <td>23</td>\n",
       "      <td>6</td>\n",
       "      <td>метро Станция Аннино, Москва</td>\n",
       "      <td>55.583367</td>\n",
       "      <td>37.596692</td>\n",
       "    </tr>\n",
       "  </tbody>\n",
       "</table>\n",
       "</div>"
      ],
      "text/plain": [
       "   order_gk  hour_key  weekday_key  \\\n",
       "0    529274        15            3   \n",
       "1    161095        19            0   \n",
       "2    179230        23            6   \n",
       "\n",
       "                                 origin_full_address     origin_latitude  \\\n",
       "0                   Юбилейный проспект, д.74а, Химки  55.894901000000004   \n",
       "1  МЕГА Теплый Стан, Калужское шоссе 21км, Сосенское  55.604228000000006   \n",
       "2                       метро Станция Аннино, Москва           55.583367   \n",
       "\n",
       "     origin_longitude  \n",
       "0           37.410573  \n",
       "1  37.491983000000005  \n",
       "2           37.596692  "
      ]
     },
     "execution_count": 7,
     "metadata": {},
     "output_type": "execute_result"
    }
   ],
   "source": [
    "df_text_origin.head(3)"
   ]
  },
  {
   "cell_type": "code",
   "execution_count": 8,
   "metadata": {},
   "outputs": [
    {
     "data": {
      "text/html": [
       "<div>\n",
       "<style>\n",
       "    .dataframe thead tr:only-child th {\n",
       "        text-align: right;\n",
       "    }\n",
       "\n",
       "    .dataframe thead th {\n",
       "        text-align: left;\n",
       "    }\n",
       "\n",
       "    .dataframe tbody tr th {\n",
       "        vertical-align: top;\n",
       "    }\n",
       "</style>\n",
       "<table border=\"1\" class=\"dataframe\">\n",
       "  <thead>\n",
       "    <tr style=\"text-align: right;\">\n",
       "      <th></th>\n",
       "      <th>order_gk</th>\n",
       "      <th>hour_key</th>\n",
       "      <th>weekday_key</th>\n",
       "      <th>dest_full_address</th>\n",
       "      <th>dest_latitude</th>\n",
       "      <th>dest_longitude</th>\n",
       "    </tr>\n",
       "  </thead>\n",
       "  <tbody>\n",
       "    <tr>\n",
       "      <th>0</th>\n",
       "      <td>218541</td>\n",
       "      <td>18</td>\n",
       "      <td>4</td>\n",
       "      <td>Шмитовский пр-д, д.8, п.1, Москва</td>\n",
       "      <td>55.759159</td>\n",
       "      <td>37.553269</td>\n",
       "    </tr>\n",
       "    <tr>\n",
       "      <th>1</th>\n",
       "      <td>561549</td>\n",
       "      <td>15</td>\n",
       "      <td>5</td>\n",
       "      <td>Ходынский бульвар, д.4, Moskwa</td>\n",
       "      <td>55.790046</td>\n",
       "      <td>37.530881</td>\n",
       "    </tr>\n",
       "    <tr>\n",
       "      <th>2</th>\n",
       "      <td>64270</td>\n",
       "      <td>11</td>\n",
       "      <td>0</td>\n",
       "      <td>ул. Онежская, д.36, Москва</td>\n",
       "      <td>55.859218000000006</td>\n",
       "      <td>37.510026</td>\n",
       "    </tr>\n",
       "  </tbody>\n",
       "</table>\n",
       "</div>"
      ],
      "text/plain": [
       "   order_gk  hour_key  weekday_key                  dest_full_address  \\\n",
       "0    218541        18            4  Шмитовский пр-д, д.8, п.1, Москва   \n",
       "1    561549        15            5     Ходынский бульвар, д.4, Moskwa   \n",
       "2     64270        11            0         ул. Онежская, д.36, Москва   \n",
       "\n",
       "        dest_latitude dest_longitude  \n",
       "0           55.759159      37.553269  \n",
       "1           55.790046      37.530881  \n",
       "2  55.859218000000006      37.510026  "
      ]
     },
     "execution_count": 8,
     "metadata": {},
     "output_type": "execute_result"
    }
   ],
   "source": [
    "df_text_dest.head(3)"
   ]
  },
  {
   "cell_type": "code",
   "execution_count": 9,
   "metadata": {},
   "outputs": [
    {
     "data": {
      "text/html": [
       "<div>\n",
       "<style>\n",
       "    .dataframe thead tr:only-child th {\n",
       "        text-align: right;\n",
       "    }\n",
       "\n",
       "    .dataframe thead th {\n",
       "        text-align: left;\n",
       "    }\n",
       "\n",
       "    .dataframe tbody tr th {\n",
       "        vertical-align: top;\n",
       "    }\n",
       "</style>\n",
       "<table border=\"1\" class=\"dataframe\">\n",
       "  <thead>\n",
       "    <tr style=\"text-align: right;\">\n",
       "      <th></th>\n",
       "      <th>drivergk</th>\n",
       "      <th>latitude</th>\n",
       "      <th>longitude</th>\n",
       "      <th>status</th>\n",
       "      <th>gps_at</th>\n",
       "      <th>speed</th>\n",
       "    </tr>\n",
       "  </thead>\n",
       "  <tbody>\n",
       "    <tr>\n",
       "      <th>0</th>\n",
       "      <td>4176</td>\n",
       "      <td>55.925782</td>\n",
       "      <td>37.516895</td>\n",
       "      <td>busy</td>\n",
       "      <td>2017-09-01 14:47:53</td>\n",
       "      <td>2.361546</td>\n",
       "    </tr>\n",
       "    <tr>\n",
       "      <th>1</th>\n",
       "      <td>7104</td>\n",
       "      <td>55.625518</td>\n",
       "      <td>37.417599</td>\n",
       "      <td>in_order</td>\n",
       "      <td>2017-09-01 14:47:57</td>\n",
       "      <td>25.859999</td>\n",
       "    </tr>\n",
       "    <tr>\n",
       "      <th>2</th>\n",
       "      <td>7104</td>\n",
       "      <td>55.625425</td>\n",
       "      <td>37.417235</td>\n",
       "      <td>in_order</td>\n",
       "      <td>2017-09-01 14:47:56</td>\n",
       "      <td>25.210000</td>\n",
       "    </tr>\n",
       "  </tbody>\n",
       "</table>\n",
       "</div>"
      ],
      "text/plain": [
       "   drivergk   latitude  longitude    status               gps_at      speed\n",
       "0      4176  55.925782  37.516895      busy  2017-09-01 14:47:53   2.361546\n",
       "1      7104  55.625518  37.417599  in_order  2017-09-01 14:47:57  25.859999\n",
       "2      7104  55.625425  37.417235  in_order  2017-09-01 14:47:56  25.210000"
      ]
     },
     "execution_count": 9,
     "metadata": {},
     "output_type": "execute_result"
    }
   ],
   "source": [
    "df_geo_stream.head(3)"
   ]
  },
  {
   "cell_type": "code",
   "execution_count": 10,
   "metadata": {},
   "outputs": [
    {
     "data": {
      "text/html": [
       "<div>\n",
       "<style>\n",
       "    .dataframe thead tr:only-child th {\n",
       "        text-align: right;\n",
       "    }\n",
       "\n",
       "    .dataframe thead th {\n",
       "        text-align: left;\n",
       "    }\n",
       "\n",
       "    .dataframe tbody tr th {\n",
       "        vertical-align: top;\n",
       "    }\n",
       "</style>\n",
       "<table border=\"1\" class=\"dataframe\">\n",
       "  <thead>\n",
       "    <tr style=\"text-align: right;\">\n",
       "      <th></th>\n",
       "      <th>gps_at</th>\n",
       "      <th>latitude</th>\n",
       "      <th>longitude</th>\n",
       "      <th>status</th>\n",
       "      <th>driver_id</th>\n",
       "    </tr>\n",
       "  </thead>\n",
       "  <tbody>\n",
       "    <tr>\n",
       "      <th>0</th>\n",
       "      <td>2017-11-11T23:59:57.000Z</td>\n",
       "      <td>0.037159</td>\n",
       "      <td>0.015373</td>\n",
       "      <td>busy</td>\n",
       "      <td>1</td>\n",
       "    </tr>\n",
       "    <tr>\n",
       "      <th>1</th>\n",
       "      <td>2017-11-11T23:59:58.000Z</td>\n",
       "      <td>0.037159</td>\n",
       "      <td>0.015373</td>\n",
       "      <td>busy</td>\n",
       "      <td>1</td>\n",
       "    </tr>\n",
       "    <tr>\n",
       "      <th>2</th>\n",
       "      <td>2017-11-11T23:59:59.000Z</td>\n",
       "      <td>0.037159</td>\n",
       "      <td>0.015373</td>\n",
       "      <td>busy</td>\n",
       "      <td>1</td>\n",
       "    </tr>\n",
       "  </tbody>\n",
       "</table>\n",
       "</div>"
      ],
      "text/plain": [
       "                     gps_at  latitude  longitude status  driver_id\n",
       "0  2017-11-11T23:59:57.000Z  0.037159   0.015373   busy          1\n",
       "1  2017-11-11T23:59:58.000Z  0.037159   0.015373   busy          1\n",
       "2  2017-11-11T23:59:59.000Z  0.037159   0.015373   busy          1"
      ]
     },
     "execution_count": 10,
     "metadata": {},
     "output_type": "execute_result"
    }
   ],
   "source": [
    "df_driver_paths.head(3)"
   ]
  },
  {
   "cell_type": "markdown",
   "metadata": {},
   "source": [
    "## Explorations"
   ]
  },
  {
   "cell_type": "markdown",
   "metadata": {},
   "source": [
    "### 1. Orders"
   ]
  },
  {
   "cell_type": "code",
   "execution_count": 47,
   "metadata": {},
   "outputs": [],
   "source": [
    "df_orders_riders.order_datetime = pd.to_datetime(df_orders_riders.order_datetime)"
   ]
  },
  {
   "cell_type": "code",
   "execution_count": 49,
   "metadata": {
    "scrolled": true
   },
   "outputs": [
    {
     "name": "stdout",
     "output_type": "stream",
     "text": [
      "2017-09-01 00:00:00\n",
      "2017-09-28 23:59:56\n"
     ]
    }
   ],
   "source": [
    "print(df_orders_riders.order_datetime.min())\n",
    "print(df_orders_riders.order_datetime.max())"
   ]
  },
  {
   "cell_type": "code",
   "execution_count": 36,
   "metadata": {
    "collapsed": true
   },
   "outputs": [],
   "source": [
    "riders_dist_count = df_orders_riders.rider_gk.value_counts()"
   ]
  },
  {
   "cell_type": "code",
   "execution_count": 43,
   "metadata": {},
   "outputs": [
    {
     "data": {
      "text/plain": [
       "45.0"
      ]
     },
     "execution_count": 43,
     "metadata": {},
     "output_type": "execute_result"
    }
   ],
   "source": [
    "np.percentile(riders_dist_count, 95)"
   ]
  },
  {
   "cell_type": "code",
   "execution_count": 44,
   "metadata": {},
   "outputs": [
    {
     "data": {
      "text/plain": [
       "(1609,)"
      ]
     },
     "execution_count": 44,
     "metadata": {},
     "output_type": "execute_result"
    }
   ],
   "source": [
    "riders_dist_count[riders_dist_count>45].shape"
   ]
  },
  {
   "cell_type": "code",
   "execution_count": 41,
   "metadata": {},
   "outputs": [
    {
     "data": {
      "text/plain": [
       "<matplotlib.axes._subplots.AxesSubplot at 0x7f4adcf65198>"
      ]
     },
     "execution_count": 41,
     "metadata": {},
     "output_type": "execute_result"
    },
    {
     "data": {
      "image/png": "[encoded data removed]",
      "text/plain": [
       "<matplotlib.figure.Figure at 0x7f4add2c0630>"
      ]
     },
     "metadata": {},
     "output_type": "display_data"
    }
   ],
   "source": [
    "riders_dist_count[riders_dist_count<200].hist(bins=30)"
   ]
  },
  {
   "cell_type": "markdown",
   "metadata": {},
   "source": [
    "### 2. Geo stream"
   ]
  },
  {
   "cell_type": "markdown",
   "metadata": {},
   "source": [
    "статусы: ['busy', 'in_order', 'free', 'routing', 'none']"
   ]
  },
  {
   "cell_type": "markdown",
   "metadata": {},
   "source": [
    "None можно смело выкинуть"
   ]
  },
  {
   "cell_type": "code",
   "execution_count": 17,
   "metadata": {},
   "outputs": [
    {
     "data": {
      "text/html": [
       "<div>\n",
       "<style>\n",
       "    .dataframe thead tr:only-child th {\n",
       "        text-align: right;\n",
       "    }\n",
       "\n",
       "    .dataframe thead th {\n",
       "        text-align: left;\n",
       "    }\n",
       "\n",
       "    .dataframe tbody tr th {\n",
       "        vertical-align: top;\n",
       "    }\n",
       "</style>\n",
       "<table border=\"1\" class=\"dataframe\">\n",
       "  <thead>\n",
       "    <tr style=\"text-align: right;\">\n",
       "      <th></th>\n",
       "      <th>drivergk</th>\n",
       "      <th>latitude</th>\n",
       "      <th>longitude</th>\n",
       "      <th>status</th>\n",
       "      <th>gps_at</th>\n",
       "      <th>speed</th>\n",
       "    </tr>\n",
       "  </thead>\n",
       "  <tbody>\n",
       "    <tr>\n",
       "      <th>0</th>\n",
       "      <td>4176</td>\n",
       "      <td>55.925782</td>\n",
       "      <td>37.516895</td>\n",
       "      <td>busy</td>\n",
       "      <td>2017-09-01 14:47:53</td>\n",
       "      <td>2.361546</td>\n",
       "    </tr>\n",
       "    <tr>\n",
       "      <th>1</th>\n",
       "      <td>7104</td>\n",
       "      <td>55.625518</td>\n",
       "      <td>37.417599</td>\n",
       "      <td>in_order</td>\n",
       "      <td>2017-09-01 14:47:57</td>\n",
       "      <td>25.859999</td>\n",
       "    </tr>\n",
       "    <tr>\n",
       "      <th>2</th>\n",
       "      <td>7104</td>\n",
       "      <td>55.625425</td>\n",
       "      <td>37.417235</td>\n",
       "      <td>in_order</td>\n",
       "      <td>2017-09-01 14:47:56</td>\n",
       "      <td>25.210000</td>\n",
       "    </tr>\n",
       "    <tr>\n",
       "      <th>3</th>\n",
       "      <td>7104</td>\n",
       "      <td>55.625332</td>\n",
       "      <td>37.416873</td>\n",
       "      <td>in_order</td>\n",
       "      <td>2017-09-01 14:47:55</td>\n",
       "      <td>24.560000</td>\n",
       "    </tr>\n",
       "    <tr>\n",
       "      <th>4</th>\n",
       "      <td>7104</td>\n",
       "      <td>55.625242</td>\n",
       "      <td>37.416523</td>\n",
       "      <td>in_order</td>\n",
       "      <td>2017-09-01 14:47:54</td>\n",
       "      <td>24.070000</td>\n",
       "    </tr>\n",
       "  </tbody>\n",
       "</table>\n",
       "</div>"
      ],
      "text/plain": [
       "   drivergk   latitude  longitude    status               gps_at      speed\n",
       "0      4176  55.925782  37.516895      busy  2017-09-01 14:47:53   2.361546\n",
       "1      7104  55.625518  37.417599  in_order  2017-09-01 14:47:57  25.859999\n",
       "2      7104  55.625425  37.417235  in_order  2017-09-01 14:47:56  25.210000\n",
       "3      7104  55.625332  37.416873  in_order  2017-09-01 14:47:55  24.560000\n",
       "4      7104  55.625242  37.416523  in_order  2017-09-01 14:47:54  24.070000"
      ]
     },
     "execution_count": 17,
     "metadata": {},
     "output_type": "execute_result"
    }
   ],
   "source": [
    "df_geo_stream.head()"
   ]
  },
  {
   "cell_type": "code",
   "execution_count": 62,
   "metadata": {},
   "outputs": [
    {
     "data": {
      "text/plain": [
       "<matplotlib.axes._subplots.AxesSubplot at 0x7f4acca1a780>"
      ]
     },
     "execution_count": 62,
     "metadata": {},
     "output_type": "execute_result"
    },
    {
     "data": {
      "image/png": "[encoded data removed]",
      "text/plain": [
       "<matplotlib.figure.Figure at 0x7f4add22e4a8>"
      ]
     },
     "metadata": {},
     "output_type": "display_data"
    }
   ],
   "source": [
    "df_geo_stream[df_geo_stream.speed>0].speed.sample(50000).hist(bins=20)"
   ]
  },
  {
   "cell_type": "code",
   "execution_count": 12,
   "metadata": {
    "collapsed": true
   },
   "outputs": [],
   "source": [
    "df_geo_stream = df_geo_stream[df_geo_stream.status != 'none']"
   ]
  },
  {
   "cell_type": "code",
   "execution_count": 18,
   "metadata": {},
   "outputs": [],
   "source": [
    "sizes = df_geo_stream.groupby('drivergk').size()"
   ]
  },
  {
   "cell_type": "code",
   "execution_count": 21,
   "metadata": {},
   "outputs": [
    {
     "data": {
      "text/plain": [
       "13999.0"
      ]
     },
     "execution_count": 21,
     "metadata": {},
     "output_type": "execute_result"
    }
   ],
   "source": [
    "sizes.median() # медианное количество точек на драйвера"
   ]
  },
  {
   "cell_type": "code",
   "execution_count": 24,
   "metadata": {
    "scrolled": true
   },
   "outputs": [
    {
     "data": {
      "text/plain": [
       "Index(['drivergk', 'latitude', 'longitude', 'status', 'gps_at', 'speed'], dtype='object')"
      ]
     },
     "execution_count": 24,
     "metadata": {},
     "output_type": "execute_result"
    }
   ],
   "source": [
    "df_geo_stream.columns"
   ]
  },
  {
   "cell_type": "code",
   "execution_count": 23,
   "metadata": {
    "collapsed": true
   },
   "outputs": [],
   "source": [
    "m_drivers = folium.Map([55.752992, 37.621080], zoom_start=10)"
   ]
  },
  {
   "cell_type": "code",
   "execution_count": 88,
   "metadata": {},
   "outputs": [],
   "source": [
    "df_geo_test = df_geo_stream.groupby('drivergk').get_group(2)"
   ]
  },
  {
   "cell_type": "code",
   "execution_count": 85,
   "metadata": {},
   "outputs": [
    {
     "data": {
      "text/plain": [
       "(11083, 6)"
      ]
     },
     "execution_count": 85,
     "metadata": {},
     "output_type": "execute_result"
    }
   ],
   "source": [
    "df_geo_test.shape"
   ]
  },
  {
   "cell_type": "code",
   "execution_count": 34,
   "metadata": {},
   "outputs": [],
   "source": [
    "i = 0\n",
    "for j, gr in df_geo_stream.groupby('drivergk'):\n",
    "    points = [tuple(x) for x in gr[['latitude', 'longitude']].values]\n",
    "    r = lambda: random.randint(0,255)\n",
    "    folium.PolyLine(points, color='#%02X%02X%02X' % (r(),r(),r()), weight=2.5, opacity=1).add_to(m_drivers)\n",
    "    i+=1\n",
    "    if i > 5: break"
   ]
  },
  {
   "cell_type": "code",
   "execution_count": 54,
   "metadata": {
    "collapsed": true
   },
   "outputs": [],
   "source": [
    "pd.set_option('float_format', '{:f}'.format)"
   ]
  },
  {
   "cell_type": "code",
   "execution_count": 56,
   "metadata": {},
   "outputs": [],
   "source": [
    "df_geo_test['ts'] = pd.to_numeric(pd.to_datetime(df_geo_test.gps_at)) / 1000000000"
   ]
  },
  {
   "cell_type": "code",
   "execution_count": 72,
   "metadata": {
    "collapsed": true
   },
   "outputs": [],
   "source": [
    "from sklearn.cluster import DBSCAN"
   ]
  },
  {
   "cell_type": "code",
   "execution_count": 73,
   "metadata": {
    "collapsed": true
   },
   "outputs": [],
   "source": [
    "clf = DBSCAN()\n",
    "markers = clf.fit_predict()"
   ]
  },
  {
   "cell_type": "code",
   "execution_count": 89,
   "metadata": {
    "collapsed": true
   },
   "outputs": [],
   "source": [
    "coord_test = df_geo_test[['latitude', 'longitude']].as_matrix()"
   ]
  },
  {
   "cell_type": "code",
   "execution_count": 99,
   "metadata": {
    "collapsed": true
   },
   "outputs": [],
   "source": [
    "from sklearn.preprocessing import MinMaxScaler\n",
    "sc = MinMaxScaler()"
   ]
  },
  {
   "cell_type": "code",
   "execution_count": 101,
   "metadata": {},
   "outputs": [],
   "source": [
    "speed = sc.fit_transform(df_geo_test[['speed']])"
   ]
  },
  {
   "cell_type": "code",
   "execution_count": 115,
   "metadata": {},
   "outputs": [
    {
     "data": {
      "text/plain": [
       "(array([ 4312.,  1162.,  1242.,  1349.,  1259.,  1397.,  1556.,   552.,\n",
       "          412.,   177.]),\n",
       " array([ 0. ,  0.1,  0.2,  0.3,  0.4,  0.5,  0.6,  0.7,  0.8,  0.9,  1. ]),\n",
       " <a list of 10 Patch objects>)"
      ]
     },
     "execution_count": 115,
     "metadata": {},
     "output_type": "execute_result"
    },
    {
     "data": {
      "image/png": "[encoded data removed]",
      "text/plain": [
       "<matplotlib.figure.Figure at 0x7fd493344588>"
      ]
     },
     "metadata": {},
     "output_type": "display_data"
    }
   ],
   "source": [
    "plt.hist(speed)"
   ]
  },
  {
   "cell_type": "code",
   "execution_count": 116,
   "metadata": {},
   "outputs": [
    {
     "data": {
      "text/plain": [
       "<matplotlib.collections.PathCollection at 0x7fd4660d4940>"
      ]
     },
     "execution_count": 116,
     "metadata": {},
     "output_type": "execute_result"
    },
    {
     "data": {
      "image/png": "[encoded data removed]",
      "text/plain": [
       "<matplotlib.figure.Figure at 0x7fd4935b2f60>"
      ]
     },
     "metadata": {},
     "output_type": "display_data"
    }
   ],
   "source": [
    "plt.scatter(coord_test[:,0], coord_test[:,1], c=1-speed, cmap=plt.get_cmap('RdYlGn'))"
   ]
  },
  {
   "cell_type": "code",
   "execution_count": null,
   "metadata": {
    "collapsed": true
   },
   "outputs": [],
   "source": []
  },
  {
   "cell_type": "code",
   "execution_count": 103,
   "metadata": {
    "collapsed": true
   },
   "outputs": [
    {
     "ename": "KeyboardInterrupt",
     "evalue": "",
     "output_type": "error",
     "traceback": [
      "\u001b[0;31m---------------------------------------------------------------------------\u001b[0m",
      "\u001b[0;31mKeyboardInterrupt\u001b[0m                         Traceback (most recent call last)",
      "\u001b[0;32m<ipython-input-103-6d5309545e84>\u001b[0m in \u001b[0;36m<module>\u001b[0;34m()\u001b[0m\n\u001b[1;32m      1\u001b[0m \u001b[0mm_driver_test\u001b[0m \u001b[0;34m=\u001b[0m \u001b[0mfolium\u001b[0m\u001b[0;34m.\u001b[0m\u001b[0mMap\u001b[0m\u001b[0;34m(\u001b[0m\u001b[0;34m[\u001b[0m\u001b[0;36m55.752992\u001b[0m\u001b[0;34m,\u001b[0m \u001b[0;36m37.621080\u001b[0m\u001b[0;34m]\u001b[0m\u001b[0;34m,\u001b[0m \u001b[0mzoom_start\u001b[0m\u001b[0;34m=\u001b[0m\u001b[0;36m10\u001b[0m\u001b[0;34m)\u001b[0m\u001b[0;34m\u001b[0m\u001b[0m\n\u001b[1;32m      2\u001b[0m \u001b[0;32mfor\u001b[0m \u001b[0mcoord\u001b[0m \u001b[0;32min\u001b[0m \u001b[0mcoord_test\u001b[0m\u001b[0;34m:\u001b[0m\u001b[0;34m\u001b[0m\u001b[0m\n\u001b[0;32m----> 3\u001b[0;31m     \u001b[0mfolium\u001b[0m\u001b[0;34m.\u001b[0m\u001b[0mCircleMarker\u001b[0m\u001b[0;34m(\u001b[0m\u001b[0mcoord\u001b[0m\u001b[0;34m,\u001b[0m \u001b[0mradius\u001b[0m\u001b[0;34m=\u001b[0m\u001b[0;36m2\u001b[0m\u001b[0;34m)\u001b[0m\u001b[0;34m.\u001b[0m\u001b[0madd_to\u001b[0m\u001b[0;34m(\u001b[0m\u001b[0mm_driver_test\u001b[0m\u001b[0;34m)\u001b[0m\u001b[0;34m\u001b[0m\u001b[0m\n\u001b[0m\u001b[1;32m      4\u001b[0m \u001b[0;34m\u001b[0m\u001b[0m\n\u001b[1;32m      5\u001b[0m \u001b[0mm_driver_test\u001b[0m\u001b[0;34m.\u001b[0m\u001b[0msave\u001b[0m\u001b[0;34m(\u001b[0m\u001b[0mos\u001b[0m\u001b[0;34m.\u001b[0m\u001b[0mpath\u001b[0m\u001b[0;34m.\u001b[0m\u001b[0mjoin\u001b[0m\u001b[0;34m(\u001b[0m\u001b[0;34m'maps_html'\u001b[0m\u001b[0;34m,\u001b[0m \u001b[0;34m'random_driver_stream.html'\u001b[0m\u001b[0;34m)\u001b[0m\u001b[0;34m)\u001b[0m\u001b[0;34m\u001b[0m\u001b[0m\n",
      "\u001b[0;32m/home/ubuntu/anaconda2/envs/py36/lib/python3.6/site-packages/folium/features.py\u001b[0m in \u001b[0;36m__init__\u001b[0;34m(self, location, radius, popup, **kw)\u001b[0m\n\u001b[1;32m    882\u001b[0m                 ).addTo({{this._parent.get_name()}});\n\u001b[1;32m    883\u001b[0m             \u001b[0;34m{\u001b[0m\u001b[0;34m%\u001b[0m \u001b[0mendmacro\u001b[0m \u001b[0;34m%\u001b[0m\u001b[0;34m}\u001b[0m\u001b[0;34m\u001b[0m\u001b[0m\n\u001b[0;32m--> 884\u001b[0;31m             \"\"\")\n\u001b[0m\u001b[1;32m    885\u001b[0m \u001b[0;34m\u001b[0m\u001b[0m\n\u001b[1;32m    886\u001b[0m \u001b[0;34m\u001b[0m\u001b[0m\n",
      "\u001b[0;32m/home/ubuntu/anaconda2/envs/py36/lib/python3.6/site-packages/jinja2/environment.py\u001b[0m in \u001b[0;36m__new__\u001b[0;34m(cls, source, block_start_string, block_end_string, variable_start_string, variable_end_string, comment_start_string, comment_end_string, line_statement_prefix, line_comment_prefix, trim_blocks, lstrip_blocks, newline_sequence, keep_trailing_newline, extensions, optimized, undefined, finalize, autoescape, enable_async)\u001b[0m\n\u001b[1;32m    943\u001b[0m             \u001b[0mfrozenset\u001b[0m\u001b[0;34m(\u001b[0m\u001b[0mextensions\u001b[0m\u001b[0;34m)\u001b[0m\u001b[0;34m,\u001b[0m \u001b[0moptimized\u001b[0m\u001b[0;34m,\u001b[0m \u001b[0mundefined\u001b[0m\u001b[0;34m,\u001b[0m \u001b[0mfinalize\u001b[0m\u001b[0;34m,\u001b[0m \u001b[0mautoescape\u001b[0m\u001b[0;34m,\u001b[0m\u001b[0;34m\u001b[0m\u001b[0m\n\u001b[1;32m    944\u001b[0m             None, 0, False, None, enable_async)\n\u001b[0;32m--> 945\u001b[0;31m         \u001b[0;32mreturn\u001b[0m \u001b[0menv\u001b[0m\u001b[0;34m.\u001b[0m\u001b[0mfrom_string\u001b[0m\u001b[0;34m(\u001b[0m\u001b[0msource\u001b[0m\u001b[0;34m,\u001b[0m \u001b[0mtemplate_class\u001b[0m\u001b[0;34m=\u001b[0m\u001b[0mcls\u001b[0m\u001b[0;34m)\u001b[0m\u001b[0;34m\u001b[0m\u001b[0m\n\u001b[0m\u001b[1;32m    946\u001b[0m \u001b[0;34m\u001b[0m\u001b[0m\n\u001b[1;32m    947\u001b[0m     \u001b[0;34m@\u001b[0m\u001b[0mclassmethod\u001b[0m\u001b[0;34m\u001b[0m\u001b[0m\n",
      "\u001b[0;32m/home/ubuntu/anaconda2/envs/py36/lib/python3.6/site-packages/jinja2/environment.py\u001b[0m in \u001b[0;36mfrom_string\u001b[0;34m(self, source, globals, template_class)\u001b[0m\n\u001b[1;32m    878\u001b[0m         \u001b[0mglobals\u001b[0m \u001b[0;34m=\u001b[0m \u001b[0mself\u001b[0m\u001b[0;34m.\u001b[0m\u001b[0mmake_globals\u001b[0m\u001b[0;34m(\u001b[0m\u001b[0mglobals\u001b[0m\u001b[0;34m)\u001b[0m\u001b[0;34m\u001b[0m\u001b[0m\n\u001b[1;32m    879\u001b[0m         \u001b[0mcls\u001b[0m \u001b[0;34m=\u001b[0m \u001b[0mtemplate_class\u001b[0m \u001b[0;32mor\u001b[0m \u001b[0mself\u001b[0m\u001b[0;34m.\u001b[0m\u001b[0mtemplate_class\u001b[0m\u001b[0;34m\u001b[0m\u001b[0m\n\u001b[0;32m--> 880\u001b[0;31m         \u001b[0;32mreturn\u001b[0m \u001b[0mcls\u001b[0m\u001b[0;34m.\u001b[0m\u001b[0mfrom_code\u001b[0m\u001b[0;34m(\u001b[0m\u001b[0mself\u001b[0m\u001b[0;34m,\u001b[0m \u001b[0mself\u001b[0m\u001b[0;34m.\u001b[0m\u001b[0mcompile\u001b[0m\u001b[0;34m(\u001b[0m\u001b[0msource\u001b[0m\u001b[0;34m)\u001b[0m\u001b[0;34m,\u001b[0m \u001b[0mglobals\u001b[0m\u001b[0;34m,\u001b[0m \u001b[0;32mNone\u001b[0m\u001b[0;34m)\u001b[0m\u001b[0;34m\u001b[0m\u001b[0m\n\u001b[0m\u001b[1;32m    881\u001b[0m \u001b[0;34m\u001b[0m\u001b[0m\n\u001b[1;32m    882\u001b[0m     \u001b[0;32mdef\u001b[0m \u001b[0mmake_globals\u001b[0m\u001b[0;34m(\u001b[0m\u001b[0mself\u001b[0m\u001b[0;34m,\u001b[0m \u001b[0md\u001b[0m\u001b[0;34m)\u001b[0m\u001b[0;34m:\u001b[0m\u001b[0;34m\u001b[0m\u001b[0m\n",
      "\u001b[0;32m/home/ubuntu/anaconda2/envs/py36/lib/python3.6/site-packages/jinja2/environment.py\u001b[0m in \u001b[0;36mfrom_code\u001b[0;34m(cls, environment, code, globals, uptodate)\u001b[0m\n\u001b[1;32m    952\u001b[0m         namespace = {\n\u001b[1;32m    953\u001b[0m             \u001b[0;34m'environment'\u001b[0m\u001b[0;34m:\u001b[0m  \u001b[0menvironment\u001b[0m\u001b[0;34m,\u001b[0m\u001b[0;34m\u001b[0m\u001b[0m\n\u001b[0;32m--> 954\u001b[0;31m             \u001b[0;34m'__file__'\u001b[0m\u001b[0;34m:\u001b[0m     \u001b[0mcode\u001b[0m\u001b[0;34m.\u001b[0m\u001b[0mco_filename\u001b[0m\u001b[0;34m\u001b[0m\u001b[0m\n\u001b[0m\u001b[1;32m    955\u001b[0m         }\n\u001b[1;32m    956\u001b[0m         \u001b[0mexec\u001b[0m\u001b[0;34m(\u001b[0m\u001b[0mcode\u001b[0m\u001b[0;34m,\u001b[0m \u001b[0mnamespace\u001b[0m\u001b[0;34m)\u001b[0m\u001b[0;34m\u001b[0m\u001b[0m\n",
      "\u001b[0;31mKeyboardInterrupt\u001b[0m: "
     ]
    }
   ],
   "source": [
    "m_driver_test = folium.Map([55.752992, 37.621080], zoom_start=10)\n",
    "for coord in coord_test:\n",
    "    folium.CircleMarker(coord, radius=2).add_to(m_driver_test)\n",
    "\n",
    "m_driver_test.save(os.path.join('maps_html', 'random_driver_stream.html'))"
   ]
  },
  {
   "cell_type": "code",
   "execution_count": 77,
   "metadata": {},
   "outputs": [
    {
     "data": {
      "text/plain": [
       "0    22172\n",
       "Name: 0, dtype: int64"
      ]
     },
     "execution_count": 77,
     "metadata": {},
     "output_type": "execute_result"
    }
   ],
   "source": [
    "pd.DataFrame(markers)[0].value_counts()"
   ]
  },
  {
   "cell_type": "code",
   "execution_count": 93,
   "metadata": {},
   "outputs": [],
   "source": [
    "df_geo_test = df_geo_test.reset_index(drop=True)"
   ]
  },
  {
   "cell_type": "code",
   "execution_count": 105,
   "metadata": {},
   "outputs": [],
   "source": [
    "import geopy"
   ]
  },
  {
   "cell_type": "code",
   "execution_count": 106,
   "metadata": {
    "collapsed": true
   },
   "outputs": [],
   "source": [
    "from geopy.distance import vincenty"
   ]
  },
  {
   "cell_type": "code",
   "execution_count": 111,
   "metadata": {},
   "outputs": [],
   "source": [
    "m_driver_test = folium.Map([55.752992, 37.621080], zoom_start=10)\n",
    "points = []\n",
    "\n",
    "prev_point = df_geo_test.loc[0][['latitude', 'longitude']].values\n",
    "points+=[prev_point]\n",
    "for i, point in df_geo_test.iterrows():\n",
    "    if i==0: \n",
    "        continue\n",
    "    cur_point = point[['latitude', 'longitude']].values\n",
    "#     if cur_point[2] - prev_point[2] > 20: \n",
    "    if vincenty(cur_point, prev_point).km > 0.5:\n",
    "        r = lambda: random.randint(0,255)\n",
    "        folium.PolyLine([(p[0], p[1]) for p in points], color='#%02X%02X%02X' % (r(),r(),r()), weight=4.5, opacity=1).add_to(m_driver_test)\n",
    "        points = [cur_point]\n",
    "    else:\n",
    "        points += [cur_point]\n",
    "    \n",
    "    prev_point = cur_point\n",
    "\n",
    "    \n",
    "if points:\n",
    "    r = lambda: random.randint(0,255)\n",
    "    folium.PolyLine([(p[0], p[1]) for p in points], color='#%02X%02X%02X' % (r(),r(),r()), weight=4.5, opacity=1).add_to(m_driver_test)\n",
    "    \n",
    "    \n",
    "m_driver_test.save(os.path.join('maps_html', 'random_driver_stream.html'))"
   ]
  },
  {
   "cell_type": "code",
   "execution_count": 112,
   "metadata": {
    "collapsed": true
   },
   "outputs": [],
   "source": [
    "m_drivers.save(os.path.join('maps_html', 'geo_stream_test.html'))"
   ]
  },
  {
   "cell_type": "markdown",
   "metadata": {},
   "source": [
    "### 3. Driver Paths"
   ]
  },
  {
   "cell_type": "code",
   "execution_count": 13,
   "metadata": {},
   "outputs": [
    {
     "data": {
      "text/html": [
       "<div>\n",
       "<style>\n",
       "    .dataframe thead tr:only-child th {\n",
       "        text-align: right;\n",
       "    }\n",
       "\n",
       "    .dataframe thead th {\n",
       "        text-align: left;\n",
       "    }\n",
       "\n",
       "    .dataframe tbody tr th {\n",
       "        vertical-align: top;\n",
       "    }\n",
       "</style>\n",
       "<table border=\"1\" class=\"dataframe\">\n",
       "  <thead>\n",
       "    <tr style=\"text-align: right;\">\n",
       "      <th></th>\n",
       "      <th>gps_at</th>\n",
       "      <th>latitude</th>\n",
       "      <th>longitude</th>\n",
       "      <th>status</th>\n",
       "      <th>driver_id</th>\n",
       "    </tr>\n",
       "  </thead>\n",
       "  <tbody>\n",
       "    <tr>\n",
       "      <th>0</th>\n",
       "      <td>2017-11-11T23:59:57.000Z</td>\n",
       "      <td>0.037159</td>\n",
       "      <td>0.015373</td>\n",
       "      <td>busy</td>\n",
       "      <td>1</td>\n",
       "    </tr>\n",
       "    <tr>\n",
       "      <th>1</th>\n",
       "      <td>2017-11-11T23:59:58.000Z</td>\n",
       "      <td>0.037159</td>\n",
       "      <td>0.015373</td>\n",
       "      <td>busy</td>\n",
       "      <td>1</td>\n",
       "    </tr>\n",
       "    <tr>\n",
       "      <th>2</th>\n",
       "      <td>2017-11-11T23:59:59.000Z</td>\n",
       "      <td>0.037159</td>\n",
       "      <td>0.015373</td>\n",
       "      <td>busy</td>\n",
       "      <td>1</td>\n",
       "    </tr>\n",
       "    <tr>\n",
       "      <th>3</th>\n",
       "      <td>2017-11-11T21:10:01.000Z</td>\n",
       "      <td>0.002748</td>\n",
       "      <td>0.013215</td>\n",
       "      <td>busy</td>\n",
       "      <td>1</td>\n",
       "    </tr>\n",
       "    <tr>\n",
       "      <th>4</th>\n",
       "      <td>2017-11-11T21:10:00.000Z</td>\n",
       "      <td>0.002768</td>\n",
       "      <td>0.013144</td>\n",
       "      <td>busy</td>\n",
       "      <td>1</td>\n",
       "    </tr>\n",
       "  </tbody>\n",
       "</table>\n",
       "</div>"
      ],
      "text/plain": [
       "                     gps_at  latitude  longitude status  driver_id\n",
       "0  2017-11-11T23:59:57.000Z  0.037159   0.015373   busy          1\n",
       "1  2017-11-11T23:59:58.000Z  0.037159   0.015373   busy          1\n",
       "2  2017-11-11T23:59:59.000Z  0.037159   0.015373   busy          1\n",
       "3  2017-11-11T21:10:01.000Z  0.002748   0.013215   busy          1\n",
       "4  2017-11-11T21:10:00.000Z  0.002768   0.013144   busy          1"
      ]
     },
     "execution_count": 13,
     "metadata": {},
     "output_type": "execute_result"
    }
   ],
   "source": [
    "df_driver_paths.head()"
   ]
  },
  {
   "cell_type": "markdown",
   "metadata": {
    "collapsed": true
   },
   "source": [
    "### 4. DF text"
   ]
  },
  {
   "cell_type": "code",
   "execution_count": 14,
   "metadata": {},
   "outputs": [
    {
     "data": {
      "text/html": [
       "<div>\n",
       "<style>\n",
       "    .dataframe thead tr:only-child th {\n",
       "        text-align: right;\n",
       "    }\n",
       "\n",
       "    .dataframe thead th {\n",
       "        text-align: left;\n",
       "    }\n",
       "\n",
       "    .dataframe tbody tr th {\n",
       "        vertical-align: top;\n",
       "    }\n",
       "</style>\n",
       "<table border=\"1\" class=\"dataframe\">\n",
       "  <thead>\n",
       "    <tr style=\"text-align: right;\">\n",
       "      <th></th>\n",
       "      <th>order_gk</th>\n",
       "      <th>hour_key</th>\n",
       "      <th>weekday_key</th>\n",
       "      <th>dest_full_address</th>\n",
       "      <th>dest_latitude</th>\n",
       "      <th>dest_longitude</th>\n",
       "    </tr>\n",
       "  </thead>\n",
       "  <tbody>\n",
       "    <tr>\n",
       "      <th>0</th>\n",
       "      <td>218541</td>\n",
       "      <td>18</td>\n",
       "      <td>4</td>\n",
       "      <td>Шмитовский пр-д, д.8, п.1, Москва</td>\n",
       "      <td>55.759159</td>\n",
       "      <td>37.553269</td>\n",
       "    </tr>\n",
       "    <tr>\n",
       "      <th>1</th>\n",
       "      <td>561549</td>\n",
       "      <td>15</td>\n",
       "      <td>5</td>\n",
       "      <td>Ходынский бульвар, д.4, Moskwa</td>\n",
       "      <td>55.790046</td>\n",
       "      <td>37.530881</td>\n",
       "    </tr>\n",
       "    <tr>\n",
       "      <th>2</th>\n",
       "      <td>64270</td>\n",
       "      <td>11</td>\n",
       "      <td>0</td>\n",
       "      <td>ул. Онежская, д.36, Москва</td>\n",
       "      <td>55.859218000000006</td>\n",
       "      <td>37.510026</td>\n",
       "    </tr>\n",
       "    <tr>\n",
       "      <th>3</th>\n",
       "      <td>71457</td>\n",
       "      <td>19</td>\n",
       "      <td>4</td>\n",
       "      <td>улица Бочкова, д.8, к.1, Москва</td>\n",
       "      <td>55.811184999999995</td>\n",
       "      <td>37.632774</td>\n",
       "    </tr>\n",
       "    <tr>\n",
       "      <th>4</th>\n",
       "      <td>632664</td>\n",
       "      <td>11</td>\n",
       "      <td>1</td>\n",
       "      <td>улица Макаренко, д.1, Королев</td>\n",
       "      <td>55.946296999999994</td>\n",
       "      <td>37.907089</td>\n",
       "    </tr>\n",
       "  </tbody>\n",
       "</table>\n",
       "</div>"
      ],
      "text/plain": [
       "   order_gk  hour_key  weekday_key                  dest_full_address  \\\n",
       "0    218541        18            4  Шмитовский пр-д, д.8, п.1, Москва   \n",
       "1    561549        15            5     Ходынский бульвар, д.4, Moskwa   \n",
       "2     64270        11            0         ул. Онежская, д.36, Москва   \n",
       "3     71457        19            4    улица Бочкова, д.8, к.1, Москва   \n",
       "4    632664        11            1      улица Макаренко, д.1, Королев   \n",
       "\n",
       "        dest_latitude dest_longitude  \n",
       "0           55.759159      37.553269  \n",
       "1           55.790046      37.530881  \n",
       "2  55.859218000000006      37.510026  \n",
       "3  55.811184999999995      37.632774  \n",
       "4  55.946296999999994      37.907089  "
      ]
     },
     "execution_count": 14,
     "metadata": {},
     "output_type": "execute_result"
    }
   ],
   "source": [
    "df_text_dest.head()"
   ]
  },
  {
   "cell_type": "code",
   "execution_count": 15,
   "metadata": {},
   "outputs": [
    {
     "data": {
      "text/html": [
       "<div>\n",
       "<style>\n",
       "    .dataframe thead tr:only-child th {\n",
       "        text-align: right;\n",
       "    }\n",
       "\n",
       "    .dataframe thead th {\n",
       "        text-align: left;\n",
       "    }\n",
       "\n",
       "    .dataframe tbody tr th {\n",
       "        vertical-align: top;\n",
       "    }\n",
       "</style>\n",
       "<table border=\"1\" class=\"dataframe\">\n",
       "  <thead>\n",
       "    <tr style=\"text-align: right;\">\n",
       "      <th></th>\n",
       "      <th>order_gk</th>\n",
       "      <th>hour_key</th>\n",
       "      <th>weekday_key</th>\n",
       "      <th>origin_full_address</th>\n",
       "      <th>origin_latitude</th>\n",
       "      <th>origin_longitude</th>\n",
       "    </tr>\n",
       "  </thead>\n",
       "  <tbody>\n",
       "    <tr>\n",
       "      <th>0</th>\n",
       "      <td>529274</td>\n",
       "      <td>15</td>\n",
       "      <td>3</td>\n",
       "      <td>Юбилейный проспект, д.74а, Химки</td>\n",
       "      <td>55.894901000000004</td>\n",
       "      <td>37.410573</td>\n",
       "    </tr>\n",
       "    <tr>\n",
       "      <th>1</th>\n",
       "      <td>161095</td>\n",
       "      <td>19</td>\n",
       "      <td>0</td>\n",
       "      <td>МЕГА Теплый Стан, Калужское шоссе 21км, Сосенское</td>\n",
       "      <td>55.604228000000006</td>\n",
       "      <td>37.491983000000005</td>\n",
       "    </tr>\n",
       "    <tr>\n",
       "      <th>2</th>\n",
       "      <td>179230</td>\n",
       "      <td>23</td>\n",
       "      <td>6</td>\n",
       "      <td>метро Станция Аннино, Москва</td>\n",
       "      <td>55.583367</td>\n",
       "      <td>37.596692</td>\n",
       "    </tr>\n",
       "    <tr>\n",
       "      <th>3</th>\n",
       "      <td>569188</td>\n",
       "      <td>8</td>\n",
       "      <td>5</td>\n",
       "      <td>Можайское шоссе, д.6, Москва</td>\n",
       "      <td>55.722531999999994</td>\n",
       "      <td>37.438834</td>\n",
       "    </tr>\n",
       "    <tr>\n",
       "      <th>4</th>\n",
       "      <td>335006</td>\n",
       "      <td>17</td>\n",
       "      <td>2</td>\n",
       "      <td>Аргуновская улица, д.6, к.1, Москва</td>\n",
       "      <td>55.814663</td>\n",
       "      <td>37.621176</td>\n",
       "    </tr>\n",
       "  </tbody>\n",
       "</table>\n",
       "</div>"
      ],
      "text/plain": [
       "   order_gk  hour_key  weekday_key  \\\n",
       "0    529274        15            3   \n",
       "1    161095        19            0   \n",
       "2    179230        23            6   \n",
       "3    569188         8            5   \n",
       "4    335006        17            2   \n",
       "\n",
       "                                 origin_full_address     origin_latitude  \\\n",
       "0                   Юбилейный проспект, д.74а, Химки  55.894901000000004   \n",
       "1  МЕГА Теплый Стан, Калужское шоссе 21км, Сосенское  55.604228000000006   \n",
       "2                       метро Станция Аннино, Москва           55.583367   \n",
       "3                       Можайское шоссе, д.6, Москва  55.722531999999994   \n",
       "4                Аргуновская улица, д.6, к.1, Москва           55.814663   \n",
       "\n",
       "     origin_longitude  \n",
       "0           37.410573  \n",
       "1  37.491983000000005  \n",
       "2           37.596692  \n",
       "3           37.438834  \n",
       "4           37.621176  "
      ]
     },
     "execution_count": 15,
     "metadata": {},
     "output_type": "execute_result"
    }
   ],
   "source": [
    "df_text_origin.head()"
   ]
  },
  {
   "cell_type": "code",
   "execution_count": null,
   "metadata": {
    "collapsed": true
   },
   "outputs": [],
   "source": []
  }
 ],
 "metadata": {
  "anaconda-cloud": {},
  "kernelspec": {
   "display_name": "Python 3",
   "language": "python",
   "name": "python3"
  },
  "language_info": {
   "codemirror_mode": {
    "name": "ipython",
    "version": 3
   },
   "file_extension": ".py",
   "mimetype": "text/x-python",
   "name": "python",
   "nbconvert_exporter": "python",
   "pygments_lexer": "ipython3",
   "version": "3.6.7"
  }
 },
 "nbformat": 4,
 "nbformat_minor": 2
}
